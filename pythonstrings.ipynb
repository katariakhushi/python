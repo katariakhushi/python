{
 "cells": [
  {
   "cell_type": "code",
   "execution_count": 2,
   "id": "019778af",
   "metadata": {},
   "outputs": [
    {
     "name": "stdout",
     "output_type": "stream",
     "text": [
      "khushi\n",
      "ihsuhk\n"
     ]
    }
   ],
   "source": [
    "#reverse\n",
    "def reverseword(s): \n",
    "   \n",
    "   w = s.split(\" \")        # Splitting the Sentence into list of words.\n",
    "                           # reversing each word and creating a new list of words\n",
    "                           # apply List Comprehension Technique\n",
    "   nw = [i[::-1] for i in w]\n",
    "                           # Join the new list of words to for a new Sentence\n",
    "   ns = \" \".join(nw)\n",
    "   return ns\n",
    "# Driver's Code \n",
    "s = input()\n",
    "print(reverseword(s))"
   ]
  },
  {
   "cell_type": "code",
   "execution_count": 3,
   "id": "191d0a90",
   "metadata": {},
   "outputs": [
    {
     "name": "stdout",
     "output_type": "stream",
     "text": [
      "apple\n",
      "p\n"
     ]
    }
   ],
   "source": [
    "#maximum occuring\n",
    "from sys import stdin\n",
    "def get_max_occuring_char(str1):\n",
    "  ASCII_SIZE = 256\n",
    "  ctr = [0] * ASCII_SIZE\n",
    "  max = -1\n",
    "  ch = ''\n",
    "  for i in str1:\n",
    "    ctr[ord(i)]+=1;\n",
    " \n",
    "  for i in str1:\n",
    "    if max < ctr[ord(i)]:\n",
    "      max = ctr[ord(i)]\n",
    "      ch = i\n",
    "  return ch\n",
    "\n",
    "stri=input()\n",
    "print(get_max_occuring_char(stri))"
   ]
  },
  {
   "cell_type": "code",
   "execution_count": 4,
   "id": "10c5f2f9",
   "metadata": {},
   "outputs": [
    {
     "name": "stdout",
     "output_type": "stream",
     "text": [
      "mango\n",
      "m\n"
     ]
    }
   ],
   "source": [
    "#max\n",
    "from sys import stdin\n",
    "def get_max_occuring_char(str1):\n",
    "  ASCII_SIZE = 256\n",
    "  ctr = [0] * ASCII_SIZE\n",
    "  max = -1\n",
    "  ch = ''\n",
    "  for i in str1:\n",
    "    ctr[ord(i)]+=1;\n",
    " \n",
    "  for i in str1:\n",
    "    if max < ctr[ord(i)]:\n",
    "      max = ctr[ord(i)]\n",
    "      ch = i\n",
    "  return ch\n",
    "\n",
    "stri=input()\n",
    "print(get_max_occuring_char(stri))"
   ]
  },
  {
   "cell_type": "code",
   "execution_count": 5,
   "id": "e879445e",
   "metadata": {},
   "outputs": [
    {
     "name": "stdout",
     "output_type": "stream",
     "text": [
      "meme\n",
      "false\n"
     ]
    }
   ],
   "source": [
    "#is palindrome\n",
    "def isPalindrome(str):\n",
    "\n",
    "\t# Run loop from 0 to len/2\n",
    "\tfor i in range(0, int(len(str)/2)):\n",
    "\t\tif str[i] != str[len(str)-i-1]:\n",
    "\t\t\treturn False\n",
    "\treturn True\n",
    "\n",
    "# main function\n",
    "s =input()\n",
    "ans = isPalindrome(s)\n",
    "\n",
    "if (ans):\n",
    "\tprint(\"true\")\n",
    "else:\n",
    "\tprint(\"false\")"
   ]
  },
  {
   "cell_type": "code",
   "execution_count": 6,
   "id": "9beb2c87",
   "metadata": {},
   "outputs": [
    {
     "name": "stdout",
     "output_type": "stream",
     "text": [
      "abc\n",
      "a\n",
      "ab\n",
      "abc\n",
      "b\n",
      "bc\n",
      "c\n"
     ]
    }
   ],
   "source": [
    "#subsrtring\n",
    "string = input()\n",
    "\n",
    "# lenght of the string\n",
    "n = len(string)\n",
    "\n",
    "# for ever char traverse ever char which is ahead\n",
    "for i in range(n):\n",
    "    for j in range(i, n):\n",
    "        # printing sustring in range i to j\n",
    "        print(string[i:j+1])"
   ]
  },
  {
   "cell_type": "code",
   "execution_count": null,
   "id": "48176d04",
   "metadata": {},
   "outputs": [],
   "source": []
  }
 ],
 "metadata": {
  "kernelspec": {
   "display_name": "Python 3 (ipykernel)",
   "language": "python",
   "name": "python3"
  },
  "language_info": {
   "codemirror_mode": {
    "name": "ipython",
    "version": 3
   },
   "file_extension": ".py",
   "mimetype": "text/x-python",
   "name": "python",
   "nbconvert_exporter": "python",
   "pygments_lexer": "ipython3",
   "version": "3.9.13"
  }
 },
 "nbformat": 4,
 "nbformat_minor": 5
}
