{
 "cells": [
  {
   "cell_type": "code",
   "execution_count": 3,
   "id": "9fd04eaa",
   "metadata": {},
   "outputs": [
    {
     "name": "stdout",
     "output_type": "stream",
     "text": [
      "Rohan Rohan "
     ]
    }
   ],
   "source": [
    "class Student:\n",
    "     name = \"Rohan\"\n",
    "     age = 16\n",
    "s1 = Student()\n",
    "s2 = Student()\n",
    "print(s1.name,end=\" \")\n",
    "print(s2.name,end=\" \")"
   ]
  },
  {
   "cell_type": "code",
   "execution_count": 4,
   "id": "44f68e6b",
   "metadata": {},
   "outputs": [
    {
     "name": "stdout",
     "output_type": "stream",
     "text": [
      "1 2 2 "
     ]
    }
   ],
   "source": [
    "class sampleclass: \n",
    "    count = 0     \n",
    "    def increase(self): \n",
    "        sampleclass.count += 1\n",
    "s1 = sampleclass() \n",
    "s1.increase()         \n",
    "print (s1.count,end=\" \") \n",
    "s2 = sampleclass() \n",
    "s2.increase() \n",
    "print (s2.count,end=\" \") \n",
    "print (sampleclass.count,end=\" \") "
   ]
  },
  {
   "cell_type": "code",
   "execution_count": 5,
   "id": "970823c8",
   "metadata": {},
   "outputs": [
    {
     "name": "stdout",
     "output_type": "stream",
     "text": [
      "7\n"
     ]
    }
   ],
   "source": [
    "class change:\n",
    "     def __init__(self, x, y, z):\n",
    "          self.a = x + y + z\n",
    "x = change(1,2,3)\n",
    "y = getattr(x, 'a')\n",
    "setattr(x, 'a', y+1)\n",
    "print(x.a)"
   ]
  },
  {
   "cell_type": "code",
   "execution_count": 11,
   "id": "297bad5c",
   "metadata": {},
   "outputs": [
    {
     "name": "stdout",
     "output_type": "stream",
     "text": [
      "Rohan 60\n"
     ]
    }
   ],
   "source": [
    "class Student:\n",
    "    def __init__(self,name,age):\n",
    "        self.name = name\n",
    "        self.age = age\n",
    "    def print_student_details(self):\n",
    "        print(self.name, end= \" \")\n",
    "        print(self.age)\n",
    "\n",
    "s = Student(\"Rohan\",60)\n",
    "s.print_student_details()"
   ]
  },
  {
   "cell_type": "code",
   "execution_count": 12,
   "id": "c64c81b3",
   "metadata": {},
   "outputs": [
    {
     "name": "stdout",
     "output_type": "stream",
     "text": [
      "1\n"
     ]
    }
   ],
   "source": [
    "class A:\n",
    "     def __init__(self):\n",
    "         self.x = 1\n",
    "         self.__y = 1\n",
    "     def getY(self):\n",
    "         return self.__y\n",
    "a = A()\n",
    "a.__y = 45\n",
    "print(a.getY())"
   ]
  },
  {
   "cell_type": "code",
   "execution_count": 19,
   "id": "c8c682c5",
   "metadata": {},
   "outputs": [
    {
     "name": "stdout",
     "output_type": "stream",
     "text": [
      "Rohan 20\n"
     ]
    }
   ],
   "source": [
    "class Student:\n",
    "     def __init__(self,name,age):\n",
    "        self.__name = name\n",
    "        self.age = age\n",
    "     def print_student_details(self):\n",
    "        print(self.__name, end= \" \")\n",
    "        print(self.age)\n",
    "s = Student(\"Rohan\",20)\n",
    "s.print_student_details()"
   ]
  },
  {
   "cell_type": "code",
   "execution_count": 20,
   "id": "d7555a08",
   "metadata": {},
   "outputs": [
    {
     "name": "stdout",
     "output_type": "stream",
     "text": [
      "True\n"
     ]
    }
   ],
   "source": [
    "  class Student:\n",
    "      def __init__(self,name,age):\n",
    "          self.name = name\n",
    "          self.age = age\n",
    "      def print_student_details():\n",
    "          print(self.name, end=\" \" )\n",
    "          print(self.age)\n",
    "\n",
    "      @staticmethod\n",
    "      def isTeen(age):\n",
    "          return age>16\n",
    "\n",
    "  a = Student.isTeen(18)\n",
    "  print(a)"
   ]
  },
  {
   "cell_type": "code",
   "execution_count": null,
   "id": "708809a2",
   "metadata": {},
   "outputs": [],
   "source": []
  }
 ],
 "metadata": {
  "kernelspec": {
   "display_name": "Python 3 (ipykernel)",
   "language": "python",
   "name": "python3"
  },
  "language_info": {
   "codemirror_mode": {
    "name": "ipython",
    "version": 3
   },
   "file_extension": ".py",
   "mimetype": "text/x-python",
   "name": "python",
   "nbconvert_exporter": "python",
   "pygments_lexer": "ipython3",
   "version": "3.9.13"
  }
 },
 "nbformat": 4,
 "nbformat_minor": 5
}
