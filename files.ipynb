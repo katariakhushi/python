{
 "cells": [
  {
   "cell_type": "code",
   "execution_count": null,
   "metadata": {},
   "outputs": [],
   "source": [
    "import csv\n",
    "with open ('amazon_jobs_dataset.csv') as fileobj:\n",
    "        filedata = csv.reader(fileobj, skipinitialspace = True)\n",
    "        filelist = list(filedata)\n",
    "        bcount = 0\n",
    "        scount = 0\n",
    "        for row in filelist:\n",
    "             if row[2]=='US, WA, Seattle ':\n",
    "                scount += 1\n",
    "             elif row[2]=='IN, KA, Bangalore ':\n",
    "                bcount += 1\n",
    "        print(bcount, end=' ')\n",
    "        print(scount)"
   ]
  },
  {
   "cell_type": "code",
   "execution_count": null,
   "metadata": {},
   "outputs": [],
   "source": [
    "import csv\n",
    "lines=0\n",
    "openingcsv=0\n",
    "Cvision = 0\n",
    "mydict=dict()\n",
    "with open ('amazon_jobs_dataset.csv') as fileobj:\n",
    "    filedata = csv.reader(fileobj)\n",
    "    next(filedata)\n",
    "    file_list = list(filedata)\n",
    "    \n",
    "for row in file_list:\n",
    "    if 'Computer Vision' in row[1]:\n",
    "        mydict[row[1]]=mydict.get(row[1],0)+1\n",
    "        Cvision += 1\n",
    "        lines+=1\n",
    "print(Cvision)"
   ]
  },
  {
   "cell_type": "code",
   "execution_count": null,
   "metadata": {},
   "outputs": [],
   "source": [
    "import csv\n",
    "country='CA'\n",
    "c_job=0\n",
    "with open('amazon_jobs_dataset.csv',encoding='utf-8') as fileobj:\n",
    "    filelist=csv.DictReader(fileobj)\n",
    "    for row in filelist:\n",
    "        if row['location'].split(',')[0]==country:\n",
    "            c_job+=1\n",
    "    print(c_job)"
   ]
  },
  {
   "cell_type": "code",
   "execution_count": null,
   "metadata": {},
   "outputs": [],
   "source": [
    "import csv\n",
    "with open('amazon_jobs_dataset.csv') as file_obj:\n",
    "    file_data=csv.DictReader(file_obj)\n",
    "    file_list=list(file_data)\n",
    "d={}\n",
    "for row in file_list:\n",
    "    rowdata=row['Posting_date']\n",
    "    month=rowdata.split(' ')[0]\n",
    "    year=rowdata.split(' ')[-1]\n",
    "    if year=='2018':\n",
    "        if month in d:\n",
    "            d[month]+=1\n",
    "        else:\n",
    "            d[month]=1\n",
    "value=0\n",
    "for key,val in d.items():\n",
    "    if val>value:\n",
    "        value=val\n",
    "        ans_key=key\n",
    "print(ans_key,value)"
   ]
  },
  {
   "cell_type": "code",
   "execution_count": null,
   "metadata": {},
   "outputs": [],
   "source": [
    "import csv\n",
    "with open('amazon_jobs_dataset.csv') as file_obj:\n",
    "    file_data=csv.DictReader(file_obj)\n",
    "    file_list=list(file_data)\n",
    "cnt=0\n",
    "for row in file_list:\n",
    "    key=row['BASIC QUALIFICATIONS']\n",
    "    if 'Bachelor' in key or 'BA' in key or 'BS' in key:\n",
    "        cnt+=1\n",
    "print(cnt)"
   ]
  },
  {
   "cell_type": "code",
   "execution_count": null,
   "metadata": {},
   "outputs": [],
   "source": [
    "import csv\n",
    "with open('amazon_jobs_dataset.csv') as file_obj:\n",
    "    file_data = csv.DictReader(file_obj,skipinitialspace=True)\n",
    "    file_list=list(file_data)\n",
    "\n",
    "d={'Java':0,'C++':0,'Python':0}\n",
    "for row in file_list :\n",
    "    country = row['location'].split(',')[0]\n",
    "    key = row['BASIC QUALIFICATIONS']\n",
    "    if 'IN' == country:\n",
    "        if ('Bachelor' in key or 'BA' in key or 'BS' in key) and 'Java' in key:\n",
    "            d['Java']+=1\n",
    "        if ('Bachelor' in key or 'BA' in key or 'BS' in key) and 'C++' in key:\n",
    "            d['C++']+=1\n",
    "        \n",
    "        if ('Bachelor' in key or 'BA' in key or 'BS' in key) and 'Python' in key:\n",
    "            d['Python']+=1\n",
    "    \n",
    "    \n",
    "value=0\n",
    "ans_key=None\n",
    "for key,val in d.items():\n",
    "    if val>value:\n",
    "        value=val\n",
    "        ans_key=key\n",
    "print(ans_key,value)"
   ]
  },
  {
   "cell_type": "code",
   "execution_count": null,
   "metadata": {},
   "outputs": [],
   "source": [
    "import csv\n",
    "with open(\"amazon_jobs_dataset.csv\",errors='ignore') as file_:\n",
    "    file_name=csv.DictReader(file_,skipinitialspace=True)\n",
    "    c=0\n",
    "    d={}\n",
    "    for i in file_name:\n",
    "        a=i[\"location\"].split(',')\n",
    "        if \"Java\" in i[\"BASIC QUALIFICATIONS\"]:\n",
    "            d[a[0]]=d.get(a[0],0)+1\n",
    "            j=0\n",
    "            max=0\n",
    "    for i in d:\n",
    "        if (int(d[i])>max):\n",
    "            j=i\n",
    "            max=int(d[i])\n",
    "    print(j,d[j])"
   ]
  }
 ],
 "metadata": {
  "language_info": {
   "name": "python"
  },
  "orig_nbformat": 4
 },
 "nbformat": 4,
 "nbformat_minor": 2
}
