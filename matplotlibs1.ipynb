{
 "cells": [
  {
   "cell_type": "code",
   "execution_count": 1,
   "metadata": {},
   "outputs": [
    {
     "data": {
      "image/png": "[encoded data removed]",
      "text/plain": [
       "<Figure size 640x480 with 1 Axes>"
      ]
     },
     "metadata": {},
     "output_type": "display_data"
    },
    {
     "data": {
      "text/plain": [
       "<Figure size 640x480 with 0 Axes>"
      ]
     },
     "metadata": {},
     "output_type": "display_data"
    },
    {
     "name": "stdout",
     "output_type": "stream",
     "text": [
      "60 to 70\n"
     ]
    }
   ],
   "source": [
    "import numpy as np\n",
    "import matplotlib.pyplot as plt\n",
    "x =np.array([0,1,2,3,4,5,6,7,9,10])\n",
    "y=np.array([1,2,5,10,17,26,37,50,82,101])\n",
    "plt.plot(x,y)\n",
    "plt.grid()\n",
    "fig = plt.figure()\n",
    "plt.show()\n",
    "\n",
    "print('60 to 70')"
   ]
  },
  {
   "cell_type": "code",
   "execution_count": null,
   "metadata": {},
   "outputs": [],
   "source": [
    "import matplotlib.pyplot as plt\n",
    "import numpy as np\n",
    "x=np.arange(0,40,2)\n",
    "y=2**x\n",
    "plt.plot(x,y,'--',color ='blue')\n",
    "plt.grid()\n",
    "plt.show()\n",
    "print(30)\n"
   ]
  },
  {
   "cell_type": "code",
   "execution_count": null,
   "metadata": {},
   "outputs": [],
   "source": [
    "x1 =[0,1,2,3,4,5,6,7,9,10]\n",
    "y1=[1,2,5,10,17,26,37,50,82,101]\n",
    "\n",
    "import matplotlib.pyplot as plt\n",
    "import numpy as np\n",
    "\n",
    "x2 = [i for i in range(0,40,2)]\n",
    "x2 = np.array(x2)\n",
    "y2 = 2*x2\n",
    "\n",
    "plt.plot(x1,y1,color='black',linewidth=5,label='ix+2' )\n",
    "plt.plot(x2,y2,color='red',linewidth=5,label='2*x2')\n",
    "plt.legend()\n",
    "plt.ylabel('2*x1')\n",
    "plt.xlabel('x')\n",
    "plt.grid()\n",
    "plt.show()\n",
    "\n",
    "print('0 to 10')\n",
    "print('25 to 35')\n"
   ]
  },
  {
   "cell_type": "code",
   "execution_count": null,
   "metadata": {},
   "outputs": [],
   "source": [
    "import matplotlib.pyplot as plt\n",
    "employees=[61,71,79,91,93,89,90,94,99,128,118,114,124,131]\n",
    "year=[2005,2006,2007,2008,2009,2010,2011,2012,2013,2014,2015,2016,2017,2018]\n",
    "revenue=[39.79,44.28,51.12,60.42,58.44,62.48,69.94,73.72,77.85,86.83,93.58,85.32,89.95,110.36]\n",
    "plt.scatter(year,revenue,s=employees)\n",
    "plt.show()\n",
    "plt.show()\n",
    "print('2008','60.42','91')\n",
    "print('2015','93.58','118')"
   ]
  },
  {
   "cell_type": "code",
   "execution_count": null,
   "metadata": {},
   "outputs": [],
   "source": [
    "import numpy as np\n",
    "import matplotlib.pyplot as plt\n",
    "company = ['HP','Dell','Lenovo','Asus','Apple','Acer']\n",
    "sold = [20000,43000,15000,17000,22000,13000]\n",
    "\n",
    "company = np.array(company)\n",
    "sold = np.array(sold)\n",
    "\n",
    "plt.pie(sold, labels=company, autopct='%1.1f%%', counterclock=False)\n",
    "plt.axis('equal')\n",
    "plt.show()\n",
    "\n",
    "x = np.true_divide(sold, sold.sum(axis=0, keepdims=True))*100\n",
    "for i in range(len(company)):\n",
    "    print(company[i],format(x[i],'.1f'))"
   ]
  },
  {
   "cell_type": "code",
   "execution_count": null,
   "metadata": {},
   "outputs": [],
   "source": [
    "import matplotlib.pyplot as plt \n",
    "height = [189,185,195,149,189,147,154,174,169,195,159,192,155,191,153,157,140,144,172,157]\n",
    "weight = [87,110,104,61,104,92,111,90,103,81,80,101,51,79,107,110,129,145,139,110] \n",
    "\n",
    "plt.hist(height,bins=5,edgecolor='black') \n",
    "plt.xlabel('Height') \n",
    "plt.show() \n",
    "\n",
    "plt.hist(weight,bins=5,edgecolor='black') \n",
    "plt.xlabel('Weight') \n",
    "plt.show() \n",
    "\n",
    "print(184,89)"
   ]
  }
 ],
 "metadata": {
  "kernelspec": {
   "display_name": "base",
   "language": "python",
   "name": "python3"
  },
  "language_info": {
   "codemirror_mode": {
    "name": "ipython",
    "version": 3
   },
   "file_extension": ".py",
   "mimetype": "text/x-python",
   "name": "python",
   "nbconvert_exporter": "python",
   "pygments_lexer": "ipython3",
   "version": "3.9.13"
  },
  "orig_nbformat": 4
 },
 "nbformat": 4,
 "nbformat_minor": 2
}
